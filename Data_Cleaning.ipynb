{
 "cells": [
  {
   "cell_type": "code",
   "execution_count": 15,
   "id": "0120af04",
   "metadata": {},
   "outputs": [],
   "source": [
    "import pandas as pd\n",
    "import os\n",
    "import glob\n",
    "import csv"
   ]
  },
  {
   "cell_type": "code",
   "execution_count": 16,
   "id": "fcd04b86",
   "metadata": {},
   "outputs": [],
   "source": [
    "#Get all 12 cvs files and input them into one table\n",
    "df = pd.concat([pd.read_csv(f) for f in glob.glob('raw_data/JC*.csv')], ignore_index = True)"
   ]
  },
  {
   "cell_type": "code",
   "execution_count": 17,
   "id": "0f8bb235",
   "metadata": {},
   "outputs": [
    {
     "data": {
      "text/html": [
       "<div>\n",
       "<style scoped>\n",
       "    .dataframe tbody tr th:only-of-type {\n",
       "        vertical-align: middle;\n",
       "    }\n",
       "\n",
       "    .dataframe tbody tr th {\n",
       "        vertical-align: top;\n",
       "    }\n",
       "\n",
       "    .dataframe thead th {\n",
       "        text-align: right;\n",
       "    }\n",
       "</style>\n",
       "<table border=\"1\" class=\"dataframe\">\n",
       "  <thead>\n",
       "    <tr style=\"text-align: right;\">\n",
       "      <th></th>\n",
       "      <th>ride_id</th>\n",
       "      <th>rideable_type</th>\n",
       "      <th>started_at</th>\n",
       "      <th>ended_at</th>\n",
       "      <th>start_station_name</th>\n",
       "      <th>start_station_id</th>\n",
       "      <th>end_station_name</th>\n",
       "      <th>end_station_id</th>\n",
       "      <th>start_lat</th>\n",
       "      <th>start_lng</th>\n",
       "      <th>end_lat</th>\n",
       "      <th>end_lng</th>\n",
       "      <th>member_casual</th>\n",
       "    </tr>\n",
       "  </thead>\n",
       "  <tbody>\n",
       "    <tr>\n",
       "      <th>0</th>\n",
       "      <td>D68047AAA9A72501</td>\n",
       "      <td>classic_bike</td>\n",
       "      <td>2022-08-12 18:14:45</td>\n",
       "      <td>2022-08-12 18:21:23</td>\n",
       "      <td>Columbus Drive</td>\n",
       "      <td>JC014</td>\n",
       "      <td>Hamilton Park</td>\n",
       "      <td>JC009</td>\n",
       "      <td>40.718355</td>\n",
       "      <td>-74.038914</td>\n",
       "      <td>40.727596</td>\n",
       "      <td>-74.044247</td>\n",
       "      <td>member</td>\n",
       "    </tr>\n",
       "    <tr>\n",
       "      <th>1</th>\n",
       "      <td>E5B82A9F588A7650</td>\n",
       "      <td>classic_bike</td>\n",
       "      <td>2022-08-19 01:04:39</td>\n",
       "      <td>2022-08-19 01:14:10</td>\n",
       "      <td>South Waterfront Walkway - Sinatra Dr &amp; 1 St</td>\n",
       "      <td>HB103</td>\n",
       "      <td>8 St &amp; Washington St</td>\n",
       "      <td>HB603</td>\n",
       "      <td>40.736982</td>\n",
       "      <td>-74.027781</td>\n",
       "      <td>40.745984</td>\n",
       "      <td>-74.028199</td>\n",
       "      <td>member</td>\n",
       "    </tr>\n",
       "    <tr>\n",
       "      <th>2</th>\n",
       "      <td>13D19CCBCC9D7B76</td>\n",
       "      <td>classic_bike</td>\n",
       "      <td>2022-08-19 18:13:45</td>\n",
       "      <td>2022-08-19 19:32:47</td>\n",
       "      <td>South Waterfront Walkway - Sinatra Dr &amp; 1 St</td>\n",
       "      <td>HB103</td>\n",
       "      <td>11 St &amp; Washington St</td>\n",
       "      <td>HB502</td>\n",
       "      <td>40.736982</td>\n",
       "      <td>-74.027781</td>\n",
       "      <td>40.749985</td>\n",
       "      <td>-74.027150</td>\n",
       "      <td>member</td>\n",
       "    </tr>\n",
       "    <tr>\n",
       "      <th>3</th>\n",
       "      <td>AA0DBFF220DA98F6</td>\n",
       "      <td>classic_bike</td>\n",
       "      <td>2022-08-21 13:43:05</td>\n",
       "      <td>2022-08-21 13:53:13</td>\n",
       "      <td>Columbus Drive</td>\n",
       "      <td>JC014</td>\n",
       "      <td>Montgomery St</td>\n",
       "      <td>JC099</td>\n",
       "      <td>40.718355</td>\n",
       "      <td>-74.038914</td>\n",
       "      <td>40.719420</td>\n",
       "      <td>-74.050990</td>\n",
       "      <td>member</td>\n",
       "    </tr>\n",
       "    <tr>\n",
       "      <th>4</th>\n",
       "      <td>8F11D340492FCD32</td>\n",
       "      <td>electric_bike</td>\n",
       "      <td>2022-08-04 22:02:12</td>\n",
       "      <td>2022-08-04 22:21:31</td>\n",
       "      <td>South Waterfront Walkway - Sinatra Dr &amp; 1 St</td>\n",
       "      <td>HB103</td>\n",
       "      <td>Pershing Field</td>\n",
       "      <td>JC024</td>\n",
       "      <td>40.736982</td>\n",
       "      <td>-74.027781</td>\n",
       "      <td>40.742677</td>\n",
       "      <td>-74.051789</td>\n",
       "      <td>member</td>\n",
       "    </tr>\n",
       "  </tbody>\n",
       "</table>\n",
       "</div>"
      ],
      "text/plain": [
       "            ride_id  rideable_type           started_at             ended_at  \\\n",
       "0  D68047AAA9A72501   classic_bike  2022-08-12 18:14:45  2022-08-12 18:21:23   \n",
       "1  E5B82A9F588A7650   classic_bike  2022-08-19 01:04:39  2022-08-19 01:14:10   \n",
       "2  13D19CCBCC9D7B76   classic_bike  2022-08-19 18:13:45  2022-08-19 19:32:47   \n",
       "3  AA0DBFF220DA98F6   classic_bike  2022-08-21 13:43:05  2022-08-21 13:53:13   \n",
       "4  8F11D340492FCD32  electric_bike  2022-08-04 22:02:12  2022-08-04 22:21:31   \n",
       "\n",
       "                             start_station_name start_station_id  \\\n",
       "0                                Columbus Drive            JC014   \n",
       "1  South Waterfront Walkway - Sinatra Dr & 1 St            HB103   \n",
       "2  South Waterfront Walkway - Sinatra Dr & 1 St            HB103   \n",
       "3                                Columbus Drive            JC014   \n",
       "4  South Waterfront Walkway - Sinatra Dr & 1 St            HB103   \n",
       "\n",
       "        end_station_name end_station_id  start_lat  start_lng    end_lat  \\\n",
       "0          Hamilton Park          JC009  40.718355 -74.038914  40.727596   \n",
       "1   8 St & Washington St          HB603  40.736982 -74.027781  40.745984   \n",
       "2  11 St & Washington St          HB502  40.736982 -74.027781  40.749985   \n",
       "3          Montgomery St          JC099  40.718355 -74.038914  40.719420   \n",
       "4         Pershing Field          JC024  40.736982 -74.027781  40.742677   \n",
       "\n",
       "     end_lng member_casual  \n",
       "0 -74.044247        member  \n",
       "1 -74.028199        member  \n",
       "2 -74.027150        member  \n",
       "3 -74.050990        member  \n",
       "4 -74.051789        member  "
      ]
     },
     "execution_count": 17,
     "metadata": {},
     "output_type": "execute_result"
    }
   ],
   "source": [
    "#Get fist 5\n",
    "df.head()"
   ]
  },
  {
   "cell_type": "code",
   "execution_count": 18,
   "id": "f65e42ba",
   "metadata": {},
   "outputs": [
    {
     "data": {
      "text/plain": [
       "Index(['ride_id', 'rideable_type', 'started_at', 'ended_at',\n",
       "       'start_station_name', 'start_station_id', 'end_station_name',\n",
       "       'end_station_id', 'start_lat', 'start_lng', 'end_lat', 'end_lng',\n",
       "       'member_casual'],\n",
       "      dtype='object')"
      ]
     },
     "execution_count": 18,
     "metadata": {},
     "output_type": "execute_result"
    }
   ],
   "source": [
    "# Print all the columns\n",
    "df.columns"
   ]
  },
  {
   "cell_type": "code",
   "execution_count": 19,
   "id": "e9040451",
   "metadata": {},
   "outputs": [
    {
     "name": "stdout",
     "output_type": "stream",
     "text": [
      "<class 'pandas.core.frame.DataFrame'>\n",
      "RangeIndex: 981011 entries, 0 to 981010\n",
      "Data columns (total 13 columns):\n",
      " #   Column              Non-Null Count   Dtype  \n",
      "---  ------              --------------   -----  \n",
      " 0   ride_id             981011 non-null  object \n",
      " 1   rideable_type       981011 non-null  object \n",
      " 2   started_at          981011 non-null  object \n",
      " 3   ended_at            981011 non-null  object \n",
      " 4   start_station_name  980936 non-null  object \n",
      " 5   start_station_id    980936 non-null  object \n",
      " 6   end_station_name    977641 non-null  object \n",
      " 7   end_station_id      977641 non-null  object \n",
      " 8   start_lat           981011 non-null  float64\n",
      " 9   start_lng           981011 non-null  float64\n",
      " 10  end_lat             979712 non-null  float64\n",
      " 11  end_lng             979712 non-null  float64\n",
      " 12  member_casual       981011 non-null  object \n",
      "dtypes: float64(4), object(9)\n",
      "memory usage: 97.3+ MB\n"
     ]
    }
   ],
   "source": [
    "#check data \n",
    "df.info()"
   ]
  },
  {
   "cell_type": "code",
   "execution_count": 20,
   "id": "41b8dbe0",
   "metadata": {},
   "outputs": [],
   "source": [
    "# Drop null value \n",
    "df.dropna(axis=0, how='any', inplace=True)"
   ]
  },
  {
   "cell_type": "code",
   "execution_count": 21,
   "id": "f2e7d506",
   "metadata": {},
   "outputs": [
    {
     "name": "stdout",
     "output_type": "stream",
     "text": [
      "<class 'pandas.core.frame.DataFrame'>\n",
      "Int64Index: 977641 entries, 0 to 981010\n",
      "Data columns (total 13 columns):\n",
      " #   Column              Non-Null Count   Dtype  \n",
      "---  ------              --------------   -----  \n",
      " 0   ride_id             977641 non-null  object \n",
      " 1   rideable_type       977641 non-null  object \n",
      " 2   started_at          977641 non-null  object \n",
      " 3   ended_at            977641 non-null  object \n",
      " 4   start_station_name  977641 non-null  object \n",
      " 5   start_station_id    977641 non-null  object \n",
      " 6   end_station_name    977641 non-null  object \n",
      " 7   end_station_id      977641 non-null  object \n",
      " 8   start_lat           977641 non-null  float64\n",
      " 9   start_lng           977641 non-null  float64\n",
      " 10  end_lat             977641 non-null  float64\n",
      " 11  end_lng             977641 non-null  float64\n",
      " 12  member_casual       977641 non-null  object \n",
      "dtypes: float64(4), object(9)\n",
      "memory usage: 104.4+ MB\n"
     ]
    }
   ],
   "source": [
    "#Check data\n",
    "df.info()"
   ]
  },
  {
   "cell_type": "code",
   "execution_count": 14,
   "id": "4dae8dea",
   "metadata": {},
   "outputs": [],
   "source": [
    "# Output the cleaned csv\n",
    "df.to_csv(\"citi_bike_cleaned.csv\", index=False)"
   ]
  },
  {
   "cell_type": "code",
   "execution_count": null,
   "id": "a04c083a",
   "metadata": {},
   "outputs": [],
   "source": []
  }
 ],
 "metadata": {
  "kernelspec": {
   "display_name": "Python 3 (ipykernel)",
   "language": "python",
   "name": "python3"
  },
  "language_info": {
   "codemirror_mode": {
    "name": "ipython",
    "version": 3
   },
   "file_extension": ".py",
   "mimetype": "text/x-python",
   "name": "python",
   "nbconvert_exporter": "python",
   "pygments_lexer": "ipython3",
   "version": "3.10.9"
  }
 },
 "nbformat": 4,
 "nbformat_minor": 5
}
